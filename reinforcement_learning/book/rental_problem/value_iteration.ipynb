{
 "cells": [
  {
   "cell_type": "code",
   "execution_count": 1,
   "metadata": {},
   "outputs": [],
   "source": [
    "%matplotlib inline \n",
    "\n",
    "from collections import defaultdict, namedtuple\n",
    "from typing import Dict, Tuple\n",
    "\n",
    "import matplotlib.pyplot as plt\n",
    "import numpy as np\n",
    "import pandas as pd \n",
    "from scipy.stats import poisson"
   ]
  },
  {
   "cell_type": "code",
   "execution_count": 2,
   "metadata": {},
   "outputs": [],
   "source": [
    "RENTAL_LAMBDA1 = 3\n",
    "RENTAL_LAMBDA2 = 4\n",
    "\n",
    "RETURN_LAMBDA1 = 3\n",
    "RETURN_LAMBDA2 = 2\n",
    "\n",
    "COST_OF_MOVING = 2\n",
    "COST_OF_RENTAL = 10\n",
    "\n",
    "DISCOUNT_RATE = 0.9\n",
    "\n",
    "MAX_N_CARS = 20\n",
    "MAX_N_MOVING_CARS = 5\n",
    "\n",
    "POISSON_CUTOFF = 15"
   ]
  },
  {
   "cell_type": "code",
   "execution_count": 3,
   "metadata": {},
   "outputs": [],
   "source": [
    "ACTIONS = tuple(range(-MAX_N_MOVING_CARS, MAX_N_MOVING_CARS + 1))\n",
    "State = namedtuple(\"State\",  \"loc1 loc2\")\n",
    "STATES = tuple([State(i, j) for i in range(MAX_N_CARS + 1) for j in range(MAX_N_CARS + 1)])"
   ]
  },
  {
   "cell_type": "code",
   "execution_count": 4,
   "metadata": {},
   "outputs": [],
   "source": [
    "def get_expected_return_table():\n",
    "    expected_return_table = {}\n",
    "    \n",
    "    for current_state in STATES:\n",
    "        for action in ACTIONS:\n",
    "            if action >= 0: # move loc1 -> loc2\n",
    "                possible_movement = min(action, current_state.loc1)\n",
    "                state_loc1 = current_state.loc1 - possible_movement\n",
    "                state_loc2 = current_state.loc2 + possible_movement\n",
    "                state_loc2 = min(state_loc2, MAX_N_CARS)\n",
    "            else: # move loc2 -> loc1 \n",
    "                possible_movement = min(abs(action), current_state.loc2)\n",
    "                state_loc2 = current_state.loc2 - possible_movement \n",
    "                state_loc1 = current_state.loc1 + possible_movement\n",
    "                state_loc1 = min(state_loc1, MAX_N_CARS)\n",
    "\n",
    "            expected_revenue = -abs(action) * COST_OF_MOVING\n",
    "\n",
    "            for n_rentals1 in range(POISSON_CUTOFF):\n",
    "                for n_rentals2 in range(POISSON_CUTOFF):\n",
    "                    p = poisson.pmf(n_rentals1, mu=RENTAL_LAMBDA1) * poisson.pmf(n_rentals2, mu=RENTAL_LAMBDA2)\n",
    "                    possible_rental1 = min(state_loc1, n_rentals1)\n",
    "                    possible_rental2 = min(state_loc2, n_rentals2)\n",
    "                    possible_rentals = possible_rental1 + possible_rental2\n",
    "\n",
    "                    expected_revenue += p * possible_rentals * COST_OF_RENTAL\n",
    "            \n",
    "            expected_return_table[(current_state, action)] = expected_revenue\n",
    "            \n",
    "    return expected_return_table"
   ]
  },
  {
   "cell_type": "code",
   "execution_count": 5,
   "metadata": {},
   "outputs": [
    {
     "name": "stdout",
     "output_type": "stream",
     "text": [
      "CPU times: user 1min 56s, sys: 47.2 ms, total: 1min 56s\n",
      "Wall time: 1min 56s\n"
     ]
    }
   ],
   "source": [
    "%%time \n",
    "expected_return_table = get_expected_return_table()"
   ]
  },
  {
   "cell_type": "code",
   "execution_count": 6,
   "metadata": {},
   "outputs": [
    {
     "data": {
      "text/plain": [
       "4851"
      ]
     },
     "execution_count": 6,
     "metadata": {},
     "output_type": "execute_result"
    }
   ],
   "source": [
    "len(expected_return_table) # 441 * 11 "
   ]
  },
  {
   "cell_type": "code",
   "execution_count": 7,
   "metadata": {},
   "outputs": [],
   "source": [
    "def get_transition_probability_table(first_location: bool):\n",
    "    transition_probability_table = defaultdict(dict)\n",
    "    \n",
    "    for current_state in STATES:\n",
    "        for action in ACTIONS:\n",
    "            if action >= 0: # move loc1 -> loc2\n",
    "                possible_movement = min(action, current_state.loc1)\n",
    "                state_loc1 = current_state.loc1 - possible_movement\n",
    "                state_loc2 = current_state.loc2 + possible_movement\n",
    "                state_loc2 = min(state_loc2, MAX_N_CARS)\n",
    "            else: # move loc2 -> loc1 \n",
    "                possible_movement = min(abs(action), current_state.loc2)\n",
    "                state_loc2 = current_state.loc2 - possible_movement \n",
    "                state_loc1 = current_state.loc1 + possible_movement\n",
    "                state_loc1 = min(state_loc1, MAX_N_CARS)\n",
    "\n",
    "            if first_location:\n",
    "                current_state_morning = state_loc1\n",
    "            else:\n",
    "                current_state_morning = state_loc2\n",
    "\n",
    "            for n_rentals in range(POISSON_CUTOFF):\n",
    "                for n_returns in range(POISSON_CUTOFF):\n",
    "                    if first_location:\n",
    "                        p = poisson.pmf(n_rentals, mu=RENTAL_LAMBDA1) * poisson.pmf(n_returns, mu=RETURN_LAMBDA1)\n",
    "                    else:\n",
    "                        p = poisson.pmf(n_rentals, mu=RENTAL_LAMBDA2) * poisson.pmf(n_returns, mu=RETURN_LAMBDA2)\n",
    "\n",
    "                    current_state_morning = max(0, current_state_morning - n_rentals)\n",
    "                    next_loc = min(MAX_N_CARS, current_state_morning + n_returns)\n",
    "\n",
    "                    old_p = transition_probability_table[(current_state, action)].get(next_loc, 0)\n",
    "                    transition_probability_table[(current_state, action)][next_loc] = old_p + p\n",
    "                            \n",
    "    return dict(transition_probability_table)"
   ]
  },
  {
   "cell_type": "code",
   "execution_count": 8,
   "metadata": {},
   "outputs": [
    {
     "name": "stdout",
     "output_type": "stream",
     "text": [
      "CPU times: user 1min 51s, sys: 24 ms, total: 1min 52s\n",
      "Wall time: 1min 52s\n"
     ]
    }
   ],
   "source": [
    "%%time\n",
    "transition_prob_table1 = get_transition_probability_table(True)"
   ]
  },
  {
   "cell_type": "code",
   "execution_count": 9,
   "metadata": {},
   "outputs": [
    {
     "name": "stdout",
     "output_type": "stream",
     "text": [
      "CPU times: user 1min 49s, sys: 17 µs, total: 1min 49s\n",
      "Wall time: 1min 50s\n"
     ]
    }
   ],
   "source": [
    "%%time \n",
    "transition_prob_table2 = get_transition_probability_table(False)"
   ]
  },
  {
   "cell_type": "code",
   "execution_count": 10,
   "metadata": {},
   "outputs": [],
   "source": [
    "def value_iteration(\n",
    "    value_function: np.ndarray, \n",
    "    expected_return_table: Dict[Tuple[State, int], float] = expected_return_table,\n",
    "    transition_prob_table1: Dict[Tuple[State, int], Dict[int, float]] = transition_prob_table1,\n",
    "    transition_prob_table2: Dict[Tuple[State, int], Dict[int, float]] = transition_prob_table2,\n",
    "    epsilon: float = 1e-4\n",
    "):\n",
    "    \"\"\"\n",
    "    Args:\n",
    "        value_function: of shape (MAX_N_CARS + 1, MAX_N_CARS + 1). At (i, j) value function at state (i, j)\n",
    "        policy: of shape (MAX_N_CARS + 1, MAX_N_CARS + 1). At [i, j] action to take at state (i, j)\n",
    "        expected_return_table:\n",
    "        transition_prob_table1:\n",
    "        transition_prob_table2: \n",
    "        epsilon: a small number, criterion for stopping \n",
    "    Return: \n",
    "        Estimated value function for given policy \n",
    "    \"\"\"\n",
    "    value_function = value_function.copy()\n",
    "    i = 1\n",
    "    while True:\n",
    "        delta = 0\n",
    "        for current_state in STATES:\n",
    "            old_v = value_function[current_state.loc1, current_state.loc2]            \n",
    "            best_value = -10000\n",
    "\n",
    "            for action in ACTIONS:    \n",
    "                action_value = 0\n",
    "                for next_loc1, p1 in transition_prob_table1[(current_state, action)].items():\n",
    "                    for next_loc2, p2 in transition_prob_table2[(current_state, action)].items():\n",
    "                        action_value += p1 * p2 * DISCOUNT_RATE * value_function[next_loc1, next_loc2]\n",
    "\n",
    "                action_value += expected_return_table[(current_state, action)]\n",
    "\n",
    "                if action_value > best_value:\n",
    "                    best_value = action_value\n",
    "\n",
    "            value_function[current_state.loc1, current_state.loc2] = best_value\n",
    "            delta = max(delta, abs(value_function[current_state.loc1, current_state.loc2] - old_v))\n",
    "        print('iter={}, delta={}'.format(i, delta))\n",
    "        i += 1    \n",
    "        if delta < epsilon:\n",
    "            break\n",
    "\n",
    "    policy = np.zeros_like(value_function, dtype=np.int8)\n",
    "    for current_state in STATES:\n",
    "        best_value = -10000\n",
    "        best_action = -10000\n",
    "        for action in ACTIONS:\n",
    "            action_value = 0\n",
    "            for next_loc1, p1 in transition_prob_table1[(current_state, action)].items():\n",
    "                for next_loc2, p2 in transition_prob_table2[(current_state, action)].items():\n",
    "                    action_value += p1 * p2 * DISCOUNT_RATE * value_function[next_loc1, next_loc2]\n",
    "\n",
    "            action_value += expected_return_table[(current_state, action)]\n",
    "\n",
    "            if action_value > best_value:\n",
    "                best_value = action_value\n",
    "                best_action = action\n",
    "                \n",
    "        policy[current_state.loc1, current_state.loc2] = best_action\n",
    "    return policy "
   ]
  },
  {
   "cell_type": "code",
   "execution_count": 11,
   "metadata": {},
   "outputs": [],
   "source": [
    "def plot_policy(policy: np.ndarray):\n",
    "    fig, ax = plt.subplots(figsize=(8, 8))\n",
    "    plt.imshow(policy[::-1], cmap=plt.cm.jet, aspect='auto')\n",
    "    plt.xlabel('# of Cars at location 1')\n",
    "    plt.ylabel('# of Cars at location 2')\n",
    "    plt.xticks(np.arange(0, policy.shape[0], 1))\n",
    "    plt.yticks(np.arange(0, policy.shape[1], 1))\n",
    "    plt.colorbar()"
   ]
  },
  {
   "cell_type": "code",
   "execution_count": 12,
   "metadata": {},
   "outputs": [],
   "source": [
    "v0 = np.zeros((MAX_N_CARS + 1, MAX_N_CARS + 1))"
   ]
  },
  {
   "cell_type": "code",
   "execution_count": 13,
   "metadata": {},
   "outputs": [
    {
     "name": "stdout",
     "output_type": "stream",
     "text": [
      "iter=1, delta=137.89511149676514\n",
      "iter=2, delta=66.3357470981318\n",
      "iter=3, delta=55.51217530904093\n",
      "iter=4, delta=47.292427777276046\n",
      "iter=5, delta=38.8994321273569\n",
      "iter=6, delta=31.792652994488435\n",
      "iter=7, delta=25.971857649691685\n",
      "iter=8, delta=21.21760540895525\n",
      "iter=9, delta=17.33385742849083\n",
      "iter=10, delta=14.161069930077815\n",
      "iter=11, delta=11.56908000065846\n",
      "iter=12, delta=9.451536077975902\n",
      "iter=13, delta=7.72157967136161\n",
      "iter=14, delta=6.30826548871795\n",
      "iter=15, delta=5.153636409895512\n",
      "iter=16, delta=4.210344194657068\n",
      "iter=17, delta=3.4397167011004512\n",
      "iter=18, delta=2.8101753657347217\n",
      "iter=19, delta=2.2958515375228217\n",
      "iter=20, delta=1.8756597303876674\n",
      "iter=21, delta=1.532372382154449\n",
      "iter=22, delta=1.2519143423093055\n",
      "iter=23, delta=1.0227867328931097\n",
      "iter=24, delta=0.8355948191661469\n",
      "iter=25, delta=0.6826631131058889\n",
      "iter=26, delta=0.5577211843287273\n",
      "iter=27, delta=0.45564629704148274\n",
      "iter=28, delta=0.37225329396341067\n",
      "iter=29, delta=0.3041229913692405\n",
      "iter=30, delta=0.24846198913166972\n",
      "iter=31, delta=0.20298813899523793\n",
      "iter=32, delta=0.16583697456735536\n",
      "iter=33, delta=0.13548526662583527\n",
      "iter=34, delta=0.11068856942523553\n",
      "iter=35, delta=0.09043019736725455\n",
      "iter=36, delta=0.07387954003365849\n",
      "iter=37, delta=0.06035800644315259\n",
      "iter=38, delta=0.04931120226569874\n",
      "iter=39, delta=0.04028619916647358\n",
      "iter=40, delta=0.032912964371803355\n",
      "iter=41, delta=0.026889189005657954\n",
      "iter=42, delta=0.02196789317559933\n",
      "iter=43, delta=0.017947299581010157\n",
      "iter=44, delta=0.01466256047655179\n",
      "iter=45, delta=0.011978998777351535\n",
      "iter=46, delta=0.00978658617941619\n",
      "iter=47, delta=0.00799543190720442\n",
      "iter=48, delta=0.006532097118338243\n",
      "iter=49, delta=0.005336583847451948\n",
      "iter=50, delta=0.004359875035788718\n",
      "iter=51, delta=0.0035619247948375232\n",
      "iter=52, delta=0.0029100164892952307\n",
      "iter=53, delta=0.0023774213265141952\n",
      "iter=54, delta=0.0019423024510274445\n",
      "iter=55, delta=0.001586819623582869\n",
      "iter=56, delta=0.0012963977439426344\n",
      "iter=57, delta=0.0010591292714821066\n",
      "iter=58, delta=0.0008652859961557624\n",
      "iter=59, delta=0.0007069201792546664\n",
      "iter=60, delta=0.0005775386900950252\n",
      "iter=61, delta=0.0004718367761142872\n",
      "iter=62, delta=0.00038548056937770525\n",
      "iter=63, delta=0.00031492939285726607\n",
      "iter=64, delta=0.0002572905881947918\n",
      "iter=65, delta=0.00021020091651280381\n",
      "iter=66, delta=0.0001717296590300066\n",
      "iter=67, delta=0.00014029946470373034\n",
      "iter=68, delta=0.00011462166605724633\n",
      "iter=69, delta=9.364345345375114e-05\n",
      "CPU times: user 42.1 s, sys: 20 ms, total: 42.1 s\n",
      "Wall time: 42.2 s\n"
     ]
    }
   ],
   "source": [
    "%%time \n",
    "optimal_policy = value_iteration(v0)"
   ]
  },
  {
   "cell_type": "code",
   "execution_count": 14,
   "metadata": {},
   "outputs": [
    {
     "data": {
      "image/png": "[encoded data removed]",
      "text/plain": [
       "<Figure size 576x576 with 2 Axes>"
      ]
     },
     "metadata": {},
     "output_type": "display_data"
    }
   ],
   "source": [
    "plot_policy(optimal_policy)"
   ]
  }
 ],
 "metadata": {
  "kernelspec": {
   "display_name": "Python 3",
   "language": "python",
   "name": "python3"
  },
  "language_info": {
   "codemirror_mode": {
    "name": "ipython",
    "version": 3
   },
   "file_extension": ".py",
   "mimetype": "text/x-python",
   "name": "python",
   "nbconvert_exporter": "python",
   "pygments_lexer": "ipython3",
   "version": "3.6.5"
  }
 },
 "nbformat": 4,
 "nbformat_minor": 2
}
