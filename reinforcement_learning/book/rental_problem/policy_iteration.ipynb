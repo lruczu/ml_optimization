{
 "cells": [
  {
   "cell_type": "code",
   "execution_count": 1,
   "metadata": {},
   "outputs": [],
   "source": [
    "%matplotlib inline \n",
    "\n",
    "from collections import defaultdict, namedtuple\n",
    "from typing import Dict, Tuple\n",
    "\n",
    "import matplotlib.pyplot as plt\n",
    "import numpy as np\n",
    "import pandas as pd \n",
    "from scipy.stats import poisson"
   ]
  },
  {
   "cell_type": "code",
   "execution_count": 2,
   "metadata": {},
   "outputs": [],
   "source": [
    "RENTAL_LAMBDA1 = 3\n",
    "RENTAL_LAMBDA2 = 4\n",
    "\n",
    "RETURN_LAMBDA1 = 3\n",
    "RETURN_LAMBDA2 = 2\n",
    "\n",
    "COST_OF_MOVING = 2\n",
    "COST_OF_RENTAL = 10\n",
    "\n",
    "DISCOUNT_RATE = 0.9\n",
    "\n",
    "MAX_N_CARS = 20\n",
    "MAX_N_MOVING_CARS = 5\n",
    "\n",
    "POISSON_CUTOFF = 15"
   ]
  },
  {
   "cell_type": "code",
   "execution_count": 3,
   "metadata": {},
   "outputs": [],
   "source": [
    "ACTIONS = tuple(range(-MAX_N_MOVING_CARS, MAX_N_MOVING_CARS + 1))\n",
    "State = namedtuple(\"State\",  \"loc1 loc2\")\n",
    "STATES = tuple([State(i, j) for i in range(MAX_N_CARS + 1) for j in range(MAX_N_CARS + 1)])"
   ]
  },
  {
   "cell_type": "markdown",
   "metadata": {},
   "source": [
    "#### Policy evaluation"
   ]
  },
  {
   "cell_type": "markdown",
   "metadata": {},
   "source": [
    "Function $v_{\\pi}(s)$ for a policy $\\pi$ is equal to $E_{\\pi}[R_{t+1}|S_{t}=s]$ + $\\gamma$ $E_{\\pi}[v_{\\pi}(S_{t+1})|S_{t}=s]$. <br>According to policy evaluation algorithm we can just take the last update to $v_{\\pi}(s^{'})$ (if we know $s^{'}$). First let's focus on $E_{\\pi}[R_{t+1}]$, let's derive an useful recipe for computing it: <br><br>\n",
    "$E_{\\pi}[R_{t+1}|S_{t}=s]$ = $\\sum_{a}E_{\\pi}[R_{t+1}|S_{t}=s, A_{t}=a]Pr(A_{t}=a|S_{t}=s)$ =\n",
    "$\\pi(s)E_{\\pi}[R_{t+1}|S_{t}=s, A_{t}=a]$ <br>(since we're considering only deterministic policies).<br><br>\n",
    "\n",
    "$S_{t}$ represents the number of cars in both location at the end of the day. Acting $A_{t}=a$ means transfering some cars from one location to another. "
   ]
  },
  {
   "cell_type": "markdown",
   "metadata": {},
   "source": [
    "We can create map (\"state\", \"action\") -> \"expected reward\" to speed up computations later "
   ]
  },
  {
   "cell_type": "code",
   "execution_count": 4,
   "metadata": {},
   "outputs": [],
   "source": [
    "def get_expected_return_table():\n",
    "    expected_return_table = {}\n",
    "    \n",
    "    for current_state in STATES:\n",
    "        for action in ACTIONS:\n",
    "            if action >= 0: # move loc1 -> loc2\n",
    "                possible_movement = min(action, current_state.loc1)\n",
    "                state_loc1 = current_state.loc1 - possible_movement\n",
    "                state_loc2 = current_state.loc2 + possible_movement\n",
    "                state_loc2 = min(state_loc2, MAX_N_CARS)\n",
    "            else: # move loc2 -> loc1 \n",
    "                possible_movement = min(abs(action), current_state.loc2)\n",
    "                state_loc2 = current_state.loc2 - possible_movement \n",
    "                state_loc1 = current_state.loc1 + possible_movement\n",
    "                state_loc1 = min(state_loc1, MAX_N_CARS)\n",
    "\n",
    "            expected_revenue = -abs(action) * COST_OF_MOVING\n",
    "\n",
    "            for n_rentals1 in range(POISSON_CUTOFF):\n",
    "                for n_rentals2 in range(POISSON_CUTOFF):\n",
    "                    p = poisson.pmf(n_rentals1, mu=RENTAL_LAMBDA1) * poisson.pmf(n_rentals2, mu=RENTAL_LAMBDA2)\n",
    "                    possible_rental1 = min(state_loc1, n_rentals1)\n",
    "                    possible_rental2 = min(state_loc2, n_rentals2)\n",
    "                    possible_rentals = possible_rental1 + possible_rental2\n",
    "\n",
    "                    expected_revenue += p * possible_rentals * COST_OF_RENTAL\n",
    "            \n",
    "            expected_return_table[(current_state, action)] = expected_revenue\n",
    "            \n",
    "    return expected_return_table"
   ]
  },
  {
   "cell_type": "code",
   "execution_count": 5,
   "metadata": {},
   "outputs": [
    {
     "name": "stdout",
     "output_type": "stream",
     "text": [
      "Wall time: 2min 20s\n"
     ]
    }
   ],
   "source": [
    "%%time \n",
    "expected_return_table = get_expected_return_table()"
   ]
  },
  {
   "cell_type": "code",
   "execution_count": 6,
   "metadata": {},
   "outputs": [
    {
     "data": {
      "text/plain": [
       "4851"
      ]
     },
     "execution_count": 6,
     "metadata": {},
     "output_type": "execute_result"
    }
   ],
   "source": [
    "len(expected_return_table) # 441 * 11 "
   ]
  },
  {
   "cell_type": "markdown",
   "metadata": {},
   "source": [
    "Now, let's consider $E_{\\pi}[v_{\\pi}(S_{t+1})|S_{t}=s]$. Let's derive an useful expression for it: <br><br>\n",
    "$E_{\\pi}[v_{\\pi}(S_{t+1})|S_{t}=s]$ = $E_{\\pi}[v_{\\pi}(S_{t+1})|S_{t}=s, A_{t}=a]$. Since we are considering deterministic policies. Next: <br><br>\n",
    "$E_{\\pi}[v_{\\pi}(S_{t+1})|S_{t}=s, A_{t}=a]$ = $\\sum_{s^{'}}E_{\\pi}[v_{\\pi}(s^{'})|S_{t}=s, A_{t}=a, S_{t+1}=s^{'}]$$Pr(S_{t+1}=s^{'}|S_{t}=s, A_{t}=a)$ = $\\sum_{s^{'}}v_{\\pi}(s^{'})$$Pr(S_{t+1}=s^{'}|S_{t}=s, A_{t}=a)$. \n",
    "\n",
    "Below we compute map (state, action) -> List([0, probability], ..., [20, probability]), \n",
    "where integers correspond to a number of cars at a location at the end of the day. "
   ]
  },
  {
   "cell_type": "code",
   "execution_count": 7,
   "metadata": {},
   "outputs": [],
   "source": [
    "def get_transition_probability_table(first_location: bool):\n",
    "    transition_probability_table = defaultdict(dict)\n",
    "    \n",
    "    for current_state in STATES:\n",
    "        for action in ACTIONS:\n",
    "            if action >= 0: # move loc1 -> loc2\n",
    "                possible_movement = min(action, current_state.loc1)\n",
    "                state_loc1 = current_state.loc1 - possible_movement\n",
    "                state_loc2 = current_state.loc2 + possible_movement\n",
    "                state_loc2 = min(state_loc2, MAX_N_CARS)\n",
    "            else: # move loc2 -> loc1 \n",
    "                possible_movement = min(abs(action), current_state.loc2)\n",
    "                state_loc2 = current_state.loc2 - possible_movement \n",
    "                state_loc1 = current_state.loc1 + possible_movement\n",
    "                state_loc1 = min(state_loc1, MAX_N_CARS)\n",
    "\n",
    "            if first_location:\n",
    "                current_state_morning = state_loc1\n",
    "            else:\n",
    "                current_state_morning = state_loc2\n",
    "\n",
    "            for n_rentals in range(POISSON_CUTOFF):\n",
    "                for n_returns in range(POISSON_CUTOFF):\n",
    "                    if first_location:\n",
    "                        p = poisson.pmf(n_rentals, mu=RENTAL_LAMBDA1) * poisson.pmf(n_returns, mu=RETURN_LAMBDA1)\n",
    "                    else:\n",
    "                        p = poisson.pmf(n_rentals, mu=RENTAL_LAMBDA2) * poisson.pmf(n_returns, mu=RETURN_LAMBDA2)\n",
    "\n",
    "                    current_state_morning = max(0, current_state_morning - n_rentals)\n",
    "                    next_loc = min(MAX_N_CARS, current_state_morning + n_returns)\n",
    "\n",
    "                    old_p = transition_probability_table[(current_state, action)].get(next_loc, 0)\n",
    "                    transition_probability_table[(current_state, action)][next_loc] = old_p + p\n",
    "                            \n",
    "    return dict(transition_probability_table)"
   ]
  },
  {
   "cell_type": "code",
   "execution_count": 8,
   "metadata": {},
   "outputs": [
    {
     "name": "stdout",
     "output_type": "stream",
     "text": [
      "Wall time: 4min 33s\n"
     ]
    }
   ],
   "source": [
    "%%time\n",
    "transition_prob_table1 = get_transition_probability_table(True)\n",
    "transition_prob_table2 = get_transition_probability_table(False)"
   ]
  },
  {
   "cell_type": "code",
   "execution_count": 9,
   "metadata": {},
   "outputs": [],
   "source": [
    "def policy_evaluation(\n",
    "    value_function: np.ndarray, \n",
    "    policy: np.ndarray, \n",
    "    expected_return_table: Dict[Tuple[State, int], float] = expected_return_table,\n",
    "    transition_prob_table1: Dict[Tuple[State, int], Dict[int, float]] = transition_prob_table1,\n",
    "    transition_prob_table2: Dict[Tuple[State, int], Dict[int, float]] = transition_prob_table2,\n",
    "    epsilon: float = 1e-4\n",
    "):\n",
    "    \"\"\"\n",
    "    Args:\n",
    "        value_function: of shape (MAX_N_CARS + 1, MAX_N_CARS + 1). At (i, j) value function at state (i, j)\n",
    "        policy: of shape (MAX_N_CARS + 1, MAX_N_CARS + 1). At [i, j] action to take at state (i, j)\n",
    "        expected_return_table:\n",
    "        transition_prob_table1:\n",
    "        transition_prob_table2: \n",
    "        epsilon: a small number, criterion for stopping \n",
    "    Return: \n",
    "        Estimated value function for given policy \n",
    "    \"\"\"\n",
    "    value_function = value_function.copy()\n",
    "    policy = policy.copy()\n",
    "    i = 1\n",
    "    \n",
    "    while True:\n",
    "        delta = 0\n",
    "        for current_state in STATES:\n",
    "            old_v = value_function[current_state.loc1, current_state.loc2]\n",
    "            action = policy[current_state.loc1, current_state.loc2]\n",
    "            \n",
    "            immediate_reward = expected_return_table[(current_state, action)]\n",
    "            \n",
    "            v_ahead = 0 \n",
    "            for next_loc1, p1 in transition_prob_table1[(current_state, action)].items():\n",
    "                for next_loc2, p2 in transition_prob_table2[(current_state, action)].items():\n",
    "                    v_ahead += p1 * p2 * value_function[next_loc1, next_loc2]\n",
    "                  \n",
    "            value_function[current_state.loc1, current_state.loc2] = immediate_reward + DISCOUNT_RATE * v_ahead\n",
    "\n",
    "            delta = max(delta, abs(value_function[current_state.loc1, current_state.loc2] - old_v))\n",
    "    \n",
    "        print(\"[iter] = {}, delta = {}\".format(i, delta))\n",
    "        if delta < epsilon:\n",
    "            return value_function\n",
    "        i += 1 "
   ]
  },
  {
   "cell_type": "code",
   "execution_count": 10,
   "metadata": {},
   "outputs": [],
   "source": [
    "def policy_improvement(\n",
    "    value_function: np.ndarray, \n",
    "    policy: np.ndarray, \n",
    "    expected_return_table: Dict[Tuple[State, int], float] = expected_return_table,\n",
    "    transition_prob_table1: Dict[Tuple[State, int], Dict[int, float]] = transition_prob_table1,\n",
    "    transition_prob_table2: Dict[Tuple[State, int], Dict[int, float]] = transition_prob_table2,\n",
    "):\n",
    "    \"\"\"Greedily computes new policy based on given value function.\"\"\"\n",
    "    policy_stable = True\n",
    "    policy = policy.copy()\n",
    "    value_function = value_function.copy()\n",
    "    \n",
    "    for current_state in STATES:\n",
    "        old_action = policy[current_state.loc1, current_state.loc2]\n",
    "        best_action = -10000\n",
    "        best_value = -10000\n",
    "        \n",
    "        for action in ACTIONS:    \n",
    "            action_value = 0\n",
    "            for next_loc1, p1 in transition_prob_table1[(current_state, action)].items():\n",
    "                for next_loc2, p2 in transition_prob_table2[(current_state, action)].items():\n",
    "                    action_value += p1 * p2 * value_function[next_loc1, next_loc2]\n",
    "            \n",
    "            action_value += expected_return_table[(current_state, action)]\n",
    "            \n",
    "            if action_value > best_value:\n",
    "                best_action = action\n",
    "                best_value = action_value\n",
    "        \n",
    "        policy[current_state.loc1, current_state.loc2] = best_action\n",
    "        \n",
    "        if old_action != policy[current_state.loc1, current_state.loc2]:\n",
    "            policy_stable = False \n",
    "            \n",
    "    return policy, policy_stable"
   ]
  },
  {
   "cell_type": "code",
   "execution_count": 11,
   "metadata": {},
   "outputs": [],
   "source": [
    "def policy_iteration(\n",
    "    value_function: np.ndarray, \n",
    "    policy: np.ndarray, \n",
    "    expected_return_table: Dict[Tuple[State, int], float] = expected_return_table,\n",
    "    transition_prob_table1: Dict[Tuple[State, int], Dict[int, float]] = transition_prob_table1,\n",
    "    transition_prob_table2: Dict[Tuple[State, int], Dict[int, float]] = transition_prob_table2,\n",
    "):\n",
    "    \"\"\"Policy iteration algorihtm.\"\"\"\n",
    "    value_function = value_function.copy()\n",
    "    policy = policy.copy()\n",
    "        \n",
    "    policy_stable = False\n",
    "    i = 1\n",
    "    policies = [policy]\n",
    "    \n",
    "    while not policy_stable:\n",
    "        print('[iteration] = {}'.format(i))\n",
    "        value_function = policy_evaluation(value_function, policy)\n",
    "        policy, policy_stable = policy_improvement(value_function, policy)\n",
    "        policies.append(policy)\n",
    "        i += 1 \n",
    "        \n",
    "    return policies"
   ]
  },
  {
   "cell_type": "code",
   "execution_count": 12,
   "metadata": {},
   "outputs": [],
   "source": [
    "def plot_policy(policy: np.ndarray):\n",
    "    fig, ax = plt.subplots(figsize=(8, 8))\n",
    "    plt.imshow(policy[::-1], cmap=plt.cm.jet, aspect='auto')\n",
    "    plt.xlabel('# of Cars at location 1')\n",
    "    plt.ylabel('# of Cars at location 2')\n",
    "    plt.xticks(np.arange(0, policy.shape[0], 1))\n",
    "    plt.yticks(np.arange(0, policy.shape[1], 1))\n",
    "    plt.colorbar()"
   ]
  },
  {
   "cell_type": "code",
   "execution_count": 13,
   "metadata": {},
   "outputs": [],
   "source": [
    "v0 = np.zeros((MAX_N_CARS + 1, MAX_N_CARS + 1))\n",
    "p0 = np.zeros_like(v0, dtype=int)"
   ]
  },
  {
   "cell_type": "code",
   "execution_count": 14,
   "metadata": {},
   "outputs": [
    {
     "name": "stdout",
     "output_type": "stream",
     "text": [
      "[iteration] = 1\n",
      "[iter] = 1, delta = 133.16090037562026\n",
      "[iter] = 2, delta = 62.86462365903135\n",
      "[iter] = 3, delta = 53.29246009255287\n",
      "[iter] = 4, delta = 45.407193268682434\n",
      "[iter] = 5, delta = 37.252419199088564\n",
      "[iter] = 6, delta = 30.373017982892662\n",
      "[iter] = 7, delta = 24.75381885490185\n",
      "[iter] = 8, delta = 20.175298776442872\n",
      "[iter] = 9, delta = 16.4439241198599\n",
      "[iter] = 10, delta = 13.402681152843343\n",
      "[iter] = 11, delta = 10.9239033766342\n",
      "[iter] = 12, delta = 8.903566111517705\n",
      "[iter] = 13, delta = 7.25688302286801\n",
      "[iter] = 14, delta = 5.914748154116523\n",
      "[iter] = 15, delta = 4.82083638714812\n",
      "[iter] = 16, delta = 3.9292397354417403\n",
      "[iter] = 17, delta = 3.202540733331375\n",
      "[iter] = 18, delta = 2.6102421433150766\n",
      "[iter] = 19, delta = 2.12748708418502\n",
      "[iter] = 20, delta = 1.734015867058588\n",
      "[iter] = 21, delta = 1.4133157609103364\n",
      "[iter] = 22, delta = 1.1519280059553694\n",
      "[iter] = 23, delta = 0.9388829924685638\n",
      "[iter] = 24, delta = 0.7652399012682167\n",
      "[iter] = 25, delta = 0.6237114860857673\n",
      "[iter] = 26, delta = 0.508358251093\n",
      "[iter] = 27, delta = 0.4143391892238242\n",
      "[iter] = 28, delta = 0.3377086205598516\n",
      "[iter] = 29, delta = 0.2752506047375505\n",
      "[iter] = 30, delta = 0.22434397819813512\n",
      "[iter] = 31, delta = 0.18285235232093555\n",
      "[iter] = 32, delta = 0.14903445600708665\n",
      "[iter] = 33, delta = 0.12147106009530262\n",
      "[iter] = 34, delta = 0.09900541684095288\n",
      "[iter] = 35, delta = 0.08069471490694013\n",
      "[iter] = 36, delta = 0.06577051258096844\n",
      "[iter] = 37, delta = 0.053606488729542434\n",
      "[iter] = 38, delta = 0.043692158098224354\n",
      "[iter] = 39, delta = 0.035611447877215596\n",
      "[iter] = 40, delta = 0.029025236452810077\n",
      "[iter] = 41, delta = 0.023657121553242177\n",
      "[iter] = 42, delta = 0.01928182053330829\n",
      "[iter] = 43, delta = 0.01571571597168031\n",
      "[iter] = 44, delta = 0.012809149846077617\n",
      "[iter] = 45, delta = 0.01044014285389494\n",
      "[iter] = 46, delta = 0.008509275330254695\n",
      "[iter] = 47, delta = 0.0069355149320813325\n",
      "[iter] = 48, delta = 0.005652815957432722\n",
      "[iter] = 49, delta = 0.004607347624812519\n",
      "[iter] = 50, delta = 0.0037552349652969497\n",
      "[iter] = 51, delta = 0.003060717530331658\n",
      "[iter] = 52, delta = 0.0024946486403791823\n",
      "[iter] = 53, delta = 0.002033272190885782\n",
      "[iter] = 54, delta = 0.0016572256858466972\n",
      "[iter] = 55, delta = 0.0013507276515838385\n",
      "[iter] = 56, delta = 0.001100915346455622\n",
      "[iter] = 57, delta = 0.0008973049443170567\n",
      "[iter] = 58, delta = 0.0007313515660598569\n",
      "[iter] = 59, delta = 0.0005960906784707731\n",
      "[iter] = 60, delta = 0.0004858458145804434\n",
      "[iter] = 61, delta = 0.00039599034795401167\n",
      "[iter] = 62, delta = 0.0003227533328526988\n",
      "[iter] = 63, delta = 0.0002630612446523628\n",
      "[iter] = 64, delta = 0.0002144089970670393\n",
      "[iter] = 65, delta = 0.00017475481087103617\n",
      "[iter] = 66, delta = 0.000142434526139823\n",
      "[iter] = 67, delta = 0.00011609176431193191\n",
      "[iter] = 68, delta = 9.462100246082628e-05\n",
      "[iteration] = 2\n",
      "[iter] = 1, delta = 31.367089543403154\n",
      "[iter] = 2, delta = 3.5109309072082056\n",
      "[iter] = 3, delta = 2.6160890138286277\n",
      "[iter] = 4, delta = 2.2262561022569116\n",
      "[iter] = 5, delta = 1.8538784307388596\n",
      "[iter] = 6, delta = 1.5177809374208664\n",
      "[iter] = 7, delta = 1.2403539160299033\n",
      "[iter] = 8, delta = 1.0136185568591713\n",
      "[iter] = 9, delta = 0.8283554549931296\n",
      "[iter] = 10, delta = 0.6769570471001316\n",
      "[iter] = 11, delta = 0.5532298024065199\n",
      "[iter] = 12, delta = 0.45211611761021686\n",
      "[iter] = 13, delta = 0.36948295250363117\n",
      "[iter] = 14, delta = 0.3019526328925508\n",
      "[iter] = 15, delta = 0.24676481528820204\n",
      "[iter] = 16, delta = 0.20166366321632267\n",
      "[iter] = 17, delta = 0.164805638981818\n",
      "[iter] = 18, delta = 0.134684147887981\n",
      "[iter] = 19, delta = 0.11006795522513357\n",
      "[iter] = 20, delta = 0.08995085878598275\n",
      "[iter] = 21, delta = 0.07351055972452514\n",
      "[iter] = 22, delta = 0.060075050578006994\n",
      "[iter] = 23, delta = 0.0490951465394005\n",
      "[iter] = 24, delta = 0.040122037195033045\n",
      "[iter] = 25, delta = 0.03278894110951569\n",
      "[iter] = 26, delta = 0.02679611341443433\n",
      "[iter] = 27, delta = 0.021898593544392497\n",
      "[iter] = 28, delta = 0.017896192324997173\n",
      "[iter] = 29, delta = 0.01462530911351223\n",
      "[iter] = 30, delta = 0.011952244521296507\n",
      "[iter] = 31, delta = 0.00976773536717701\n",
      "[iter] = 32, delta = 0.007982488480990924\n",
      "[iter] = 33, delta = 0.00652353078271517\n",
      "[iter] = 34, delta = 0.005331226468570094\n",
      "[iter] = 35, delta = 0.00435683935728548\n",
      "[iter] = 36, delta = 0.0035605407666707833\n",
      "[iter] = 37, delta = 0.00290978149843113\n",
      "[iter] = 38, delta = 0.0023779613625833917\n",
      "[iter] = 39, delta = 0.00194334187659706\n",
      "[iter] = 40, delta = 0.0015881577007235137\n",
      "[iter] = 41, delta = 0.001297890460762119\n",
      "[iter] = 42, delta = 0.0010606753010051762\n",
      "[iter] = 43, delta = 0.0008668159046578694\n",
      "[iter] = 44, delta = 0.0007083881493485933\n",
      "[iter] = 45, delta = 0.0005789161992311165\n",
      "[iter] = 46, delta = 0.0004731078107624853\n",
      "[iter] = 47, delta = 0.00038663799773530627\n",
      "[iter] = 48, delta = 0.0003159722550094557\n",
      "[iter] = 49, delta = 0.00025822207385317597\n",
      "[iter] = 50, delta = 0.00021102688094742916\n",
      "[iter] = 51, delta = 0.000172457543726523\n",
      "[iter] = 52, delta = 0.00014093751525479092\n",
      "[iter] = 53, delta = 0.00011517839664065832\n",
      "[iter] = 54, delta = 9.412726518576164e-05\n",
      "[iteration] = 3\n",
      "[iter] = 1, delta = 0.09267558917071028\n",
      "[iter] = 2, delta = 0.003470863736879437\n",
      "[iter] = 3, delta = 0.0015896513615416552\n",
      "[iter] = 4, delta = 0.001316327842971532\n",
      "[iter] = 5, delta = 0.001083678809607136\n",
      "[iter] = 6, delta = 0.0008865219995755069\n",
      "[iter] = 7, delta = 0.0007243661738698393\n",
      "[iter] = 8, delta = 0.000591790836722339\n",
      "[iter] = 9, delta = 0.00048347910177426456\n",
      "[iter] = 10, delta = 0.0003949919337742358\n",
      "[iter] = 11, delta = 0.00032269997086586955\n",
      "[iter] = 12, delta = 0.00026363898695080934\n",
      "[iter] = 13, delta = 0.0002153874223154162\n",
      "[iter] = 14, delta = 0.00017596692401866676\n",
      "[iter] = 15, delta = 0.00014376121907844208\n",
      "[iter] = 16, delta = 0.000117449845788542\n",
      "[iter] = 17, delta = 9.595401610340559e-05\n",
      "Wall time: 13.6 s\n"
     ]
    }
   ],
   "source": [
    "%%time\n",
    "policies = policy_iteration(v0, p0)"
   ]
  },
  {
   "cell_type": "code",
   "execution_count": 15,
   "metadata": {},
   "outputs": [
    {
     "data": {
      "text/plain": [
       "4"
      ]
     },
     "execution_count": 15,
     "metadata": {},
     "output_type": "execute_result"
    }
   ],
   "source": [
    "len(policies)"
   ]
  },
  {
   "cell_type": "code",
   "execution_count": 17,
   "metadata": {},
   "outputs": [
    {
     "data": {
      "image/png": "[encoded data removed]",
      "text/plain": [
       "<Figure size 576x576 with 2 Axes>"
      ]
     },
     "metadata": {
      "needs_background": "light"
     },
     "output_type": "display_data"
    }
   ],
   "source": [
    "plot_policy(policies[0])"
   ]
  },
  {
   "cell_type": "code",
   "execution_count": 18,
   "metadata": {},
   "outputs": [
    {
     "data": {
      "image/png": "[encoded data removed]",
      "text/plain": [
       "<Figure size 576x576 with 2 Axes>"
      ]
     },
     "metadata": {
      "needs_background": "light"
     },
     "output_type": "display_data"
    }
   ],
   "source": [
    "plot_policy(policies[1])"
   ]
  },
  {
   "cell_type": "code",
   "execution_count": 19,
   "metadata": {},
   "outputs": [
    {
     "data": {
      "image/png": "[encoded data removed]",
      "text/plain": [
       "<Figure size 576x576 with 2 Axes>"
      ]
     },
     "metadata": {
      "needs_background": "light"
     },
     "output_type": "display_data"
    }
   ],
   "source": [
    "plot_policy(policies[2])"
   ]
  },
  {
   "cell_type": "code",
   "execution_count": 20,
   "metadata": {},
   "outputs": [
    {
     "data": {
      "image/png": "[encoded data removed]",
      "text/plain": [
       "<Figure size 576x576 with 2 Axes>"
      ]
     },
     "metadata": {
      "needs_background": "light"
     },
     "output_type": "display_data"
    }
   ],
   "source": [
    "plot_policy(policies[3])"
   ]
  }
 ],
 "metadata": {
  "kernelspec": {
   "display_name": "Python 3",
   "language": "python",
   "name": "python3"
  },
  "language_info": {
   "codemirror_mode": {
    "name": "ipython",
    "version": 3
   },
   "file_extension": ".py",
   "mimetype": "text/x-python",
   "name": "python",
   "nbconvert_exporter": "python",
   "pygments_lexer": "ipython3",
   "version": "3.7.3"
  }
 },
 "nbformat": 4,
 "nbformat_minor": 2
}
