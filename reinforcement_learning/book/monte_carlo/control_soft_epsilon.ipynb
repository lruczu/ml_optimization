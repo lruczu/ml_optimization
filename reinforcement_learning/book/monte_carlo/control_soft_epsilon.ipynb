{
 "cells": [
  {
   "cell_type": "code",
   "execution_count": 1,
   "metadata": {},
   "outputs": [],
   "source": [
    "%matplotlib inline\n",
    "\n",
    "from collections import defaultdict\n",
    "import random \n",
    "from typing import List, Optional, Tuple, Union\n",
    "\n",
    "import matplotlib.pyplot as plt\n",
    "import numpy as np\n",
    "import tqdm "
   ]
  },
  {
   "cell_type": "code",
   "execution_count": 2,
   "metadata": {},
   "outputs": [],
   "source": [
    "class State:\n",
    "    SUM = [12, 13, 14, 15, 16, 17, 18, 19, 20, 21]\n",
    "    CARDS = ['Ace', 2, 3, 4, 5, 6, 7, 8, 9, 10]\n",
    "    CARDS_TO_DRAW = ['Ace', 2, 3, 4, 5, 6, 7, 8, 9, 10, 10, 10, 10]\n",
    "    \n",
    "    @staticmethod\n",
    "    def n_states():\n",
    "        return len(State.SUM) * len(State.CARDS)\n",
    "    \n",
    "    @staticmethod\n",
    "    def id_to_state(index: int):\n",
    "        id1 = index // 10\n",
    "        id2 = index % 10\n",
    "        return State.SUM[id1], State.CARDS[id2]\n",
    "    \n",
    "    @staticmethod\n",
    "    def state_to_id(state: Tuple[int, Union[int, int]]):\n",
    "        id1 = State.SUM.index(state[0])\n",
    "        id2 = State.CARDS.index(state[1])\n",
    "        return id1 * 10 + id2"
   ]
  },
  {
   "cell_type": "code",
   "execution_count": 3,
   "metadata": {},
   "outputs": [],
   "source": [
    "def sample_action(policy, state_id: int) -> int:\n",
    "    return np.random.choice([0, 1], p=policy[state_id])"
   ]
  },
  {
   "cell_type": "code",
   "execution_count": 4,
   "metadata": {},
   "outputs": [],
   "source": [
    "class Environment:\n",
    "    HIT_ACTION = 0\n",
    "    STICK_ACTION = 1\n",
    "    ACTIONS = (HIT_ACTION, STICK_ACTION)\n",
    "    \n",
    "    # current_state, action -> next_state, potential return if game is over\n",
    "    def do_action(self, state_id, action) -> Tuple[Optional[State], Optional[int]]:\n",
    "        state = State.id_to_state(state_id)\n",
    "        if action == self.HIT_ACTION:\n",
    "            new_card = self._draw_card()\n",
    "            new_sum = self._get_new_sum(state[0], new_card)\n",
    "            if new_sum > 21:\n",
    "                return None, -1\n",
    "            \n",
    "            return State.state_to_id((new_sum, state[1])), None\n",
    "        \n",
    "        elif action == self.STICK_ACTION:\n",
    "            dealer_sum = state[1] if state[1] != 'Ace' else 11\n",
    "            blackjack = state[0] == 21\n",
    "            while dealer_sum < 17:\n",
    "                dealer_sum = self._get_new_sum(dealer_sum, self._draw_card())\n",
    "                if dealer_sum != 21 and blackjack:\n",
    "                    return None, 1\n",
    "                \n",
    "            if dealer_sum > 21:\n",
    "                return None, 1\n",
    "\n",
    "            if state[0] == dealer_sum:\n",
    "                return None, 0\n",
    "            elif state[0] > dealer_sum:\n",
    "                return None, 1 \n",
    "            else:\n",
    "                return None, -1 \n",
    "            \n",
    "    def _draw_card(self) -> Union[int, str]:\n",
    "        return random.choice(State.CARDS)\n",
    "            \n",
    "    def _get_new_sum(self, current_sum, card) -> int:\n",
    "        if card == 'Ace':\n",
    "            if current_sum + 11 <= 21:\n",
    "                return current_sum + 11\n",
    "            else:\n",
    "                return current_sum + 1\n",
    "        return current_sum + card \n",
    "\n",
    "    def generate_random_state(self) -> int:\n",
    "        return np.random.choice(np.arange(State.n_states()))\n",
    "    \n",
    "    def num_actions(self) -> int:\n",
    "        return len(self.ACTIONS)\n",
    "    \n",
    "    def num_states(self) -> int:\n",
    "        return State.n_states()"
   ]
  },
  {
   "cell_type": "code",
   "execution_count": 5,
   "metadata": {},
   "outputs": [],
   "source": [
    "def run_episode(\n",
    "    env: Environment,\n",
    "    policy: np.ndarray\n",
    ") -> Tuple[List[Tuple[int, int]], int]:\n",
    "    \n",
    "    episode_finished = False\n",
    "    state_id = env.generate_random_state()\n",
    "    trajectory = []\n",
    "    \n",
    "    while True:\n",
    "        action = sample_action(policy, state_id) \n",
    "        next_state_id, r = env.do_action(state_id, action)\n",
    "        trajectory.append((state_id, action))\n",
    "        \n",
    "        if r is not None:\n",
    "            return trajectory, r\n",
    "        state_id = next_state_id"
   ]
  },
  {
   "cell_type": "code",
   "execution_count": 6,
   "metadata": {},
   "outputs": [],
   "source": [
    "def mc_soft_epsilon(\n",
    "    env: Environment,\n",
    "    epsilon: float,\n",
    "    n_iter: int,\n",
    "):\n",
    "    N = np.ones((env.num_states(), env.num_actions()))\n",
    "    Q = np.zeros((env.num_states(), env.num_actions()))\n",
    "    \n",
    "    policy = np.ones((env.num_states(), env.num_actions())) / env.num_actions()\n",
    "    \n",
    "    for i in tqdm.tqdm(range(n_iter)):\n",
    "        trajectory, r = run_episode(env, policy)\n",
    "        visited_states = []\n",
    "        \n",
    "        for state_id, action in trajectory:\n",
    "            N[state_id, action] += 1\n",
    "            Q[state_id, action] += r\n",
    "            visited_states.append(state_id)\n",
    "        \n",
    "        visited_states = set(visited_states)\n",
    "        \n",
    "        for state_id in visited_states:\n",
    "            temp = Q[state_id] / N[state_id]\n",
    "            policy[state_id] = epsilon\n",
    "            policy[state_id, np.argmax(temp)] = 1 - epsilon\n",
    "    \n",
    "    return (Q / N).argmax(axis=1)"
   ]
  },
  {
   "cell_type": "code",
   "execution_count": 7,
   "metadata": {},
   "outputs": [
    {
     "name": "stderr",
     "output_type": "stream",
     "text": [
      "100%|██████████| 10000000/10000000 [09:30<00:00, 17539.45it/s]\n"
     ]
    }
   ],
   "source": [
    "optimal_policy = mc_soft_epsilon(Environment(), 0.05, 10000000)"
   ]
  },
  {
   "cell_type": "code",
   "execution_count": 8,
   "metadata": {},
   "outputs": [],
   "source": [
    "x = []\n",
    "y = []\n",
    "actions = []\n",
    "\n",
    "for s in State.SUM:\n",
    "    for c in State.CARDS:\n",
    "        x.append(c if c != 'Ace' else 11)\n",
    "        y.append(s)\n",
    "        actions.append(optimal_policy[State.state_to_id((s, c))])"
   ]
  },
  {
   "cell_type": "code",
   "execution_count": 9,
   "metadata": {},
   "outputs": [
    {
     "data": {
      "image/png": "[encoded data removed]",
      "text/plain": [
       "<Figure size 720x360 with 1 Axes>"
      ]
     },
     "metadata": {},
     "output_type": "display_data"
    }
   ],
   "source": [
    "_, _ = plt.subplots(figsize=(10, 5)) \n",
    "plt.scatter(x, \n",
    "            y, \n",
    "            color=np.where(np.array(actions) == Environment.HIT_ACTION, 'red', 'blue'))\n",
    "plt.xlabel(\"delear's card\")\n",
    "plt.ylabel('player sum');"
   ]
  }
 ],
 "metadata": {
  "kernelspec": {
   "display_name": "Python 3",
   "language": "python",
   "name": "python3"
  },
  "language_info": {
   "codemirror_mode": {
    "name": "ipython",
    "version": 3
   },
   "file_extension": ".py",
   "mimetype": "text/x-python",
   "name": "python",
   "nbconvert_exporter": "python",
   "pygments_lexer": "ipython3",
   "version": "3.6.5"
  }
 },
 "nbformat": 4,
 "nbformat_minor": 2
}
