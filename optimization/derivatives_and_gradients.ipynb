{
 "cells": [
  {
   "cell_type": "code",
   "execution_count": 1,
   "metadata": {},
   "outputs": [],
   "source": [
    "%matplotlib inline \n",
    "\n",
    "from collections import namedtuple\n",
    "\n",
    "import matplotlib.pyplot as plt\n",
    "import numpy as np"
   ]
  },
  {
   "cell_type": "code",
   "execution_count": 2,
   "metadata": {},
   "outputs": [],
   "source": [
    "def diff_forward(f, x: float, h: float = 1e-09) -> float:\n",
    "    return (f(x + h) - f(x)) / h\n",
    "\n",
    "def diff_central(f, x: float, h: float = 1e-09) -> float:\n",
    "    return (f(x + h/2) - f(x - h/2)) / h\n",
    "\n",
    "def diff_backward(f, x: float, h: float = 1e-09) -> float:\n",
    "    return (f(x) - f(x - h)) / h\n",
    "\n",
    "def diff_complex(f, x:float, h: float = 1e-09) -> float:\n",
    "    return np.imag(f(x + h * 1.0j)) / h"
   ]
  },
  {
   "cell_type": "markdown",
   "metadata": {},
   "source": [
    "$f(x)$ = $sin(x^{2})$\n",
    "\n",
    "$x$ = $\\frac{\\pi}{2}$\n",
    "\n",
    "$f^{'}(x)$ = $2  x  cos(x^{2})$"
   ]
  },
  {
   "cell_type": "code",
   "execution_count": 3,
   "metadata": {},
   "outputs": [
    {
     "data": {
      "text/plain": [
       "-2.4542495411512917"
      ]
     },
     "execution_count": 3,
     "metadata": {},
     "output_type": "execute_result"
    }
   ],
   "source": [
    "x = np.pi / 2\n",
    "true_diff = 2 * x * np.cos(x ** 2)\n",
    "true_diff"
   ]
  },
  {
   "cell_type": "code",
   "execution_count": 4,
   "metadata": {},
   "outputs": [
    {
     "data": {
      "text/plain": [
       "[1e-18,\n",
       " 1e-17,\n",
       " 1e-16,\n",
       " 1e-15,\n",
       " 1e-14,\n",
       " 1e-13,\n",
       " 1e-12,\n",
       " 1e-11,\n",
       " 1e-10,\n",
       " 1e-09,\n",
       " 1e-08,\n",
       " 1e-07,\n",
       " 1e-06,\n",
       " 1e-05,\n",
       " 0.0001,\n",
       " 0.001,\n",
       " 0.01,\n",
       " 0.1,\n",
       " 1.0]"
      ]
     },
     "execution_count": 4,
     "metadata": {},
     "output_type": "execute_result"
    }
   ],
   "source": [
    "step_sizes = sorted([eval('1e-0{}'.format(x)) for x in range(19)])\n",
    "step_sizes"
   ]
  },
  {
   "cell_type": "code",
   "execution_count": 5,
   "metadata": {},
   "outputs": [],
   "source": [
    "f = lambda x: np.sin(x ** 2)\n",
    "diff_forward_at_x = [diff_forward(f, np.pi / 2, h) for h in step_sizes]\n",
    "diff_central_at_x = [diff_central(f, np.pi / 2, h) for h in step_sizes]\n",
    "diff_backward_at_x = [diff_backward(f, np.pi / 2, h) for h in step_sizes]\n",
    "diff_complex_at_x = [diff_complex(f, np.pi / 2, h) for h in step_sizes]"
   ]
  },
  {
   "cell_type": "code",
   "execution_count": 6,
   "metadata": {},
   "outputs": [],
   "source": [
    "step_sizes_power = sorted([np.log10(x) for x in step_sizes])"
   ]
  },
  {
   "cell_type": "code",
   "execution_count": 7,
   "metadata": {},
   "outputs": [
    {
     "data": {
      "image/png": "[encoded data removed]",
      "text/plain": [
       "<Figure size 720x360 with 1 Axes>"
      ]
     },
     "metadata": {},
     "output_type": "display_data"
    }
   ],
   "source": [
    "fix, ax = plt.subplots(figsize=(10, 5))\n",
    "\n",
    "plt.plot(step_sizes_power, [true_diff] * len(step_sizes), label='true diff')\n",
    "plt.plot(step_sizes_power, diff_forward_at_x, label='diff_forward')\n",
    "plt.plot(step_sizes_power, diff_central_at_x, label='diff_central')\n",
    "plt.plot(step_sizes_power, diff_backward_at_x, label='diff_backward')\n",
    "plt.plot(step_sizes_power, diff_complex_at_x, label='diff_complex')\n",
    "\n",
    "plt.legend()\n",
    "plt.xlabel('step size h')\n",
    "plt.ylabel('numerical diff')\n",
    "plt.legend();"
   ]
  },
  {
   "cell_type": "markdown",
   "metadata": {},
   "source": [
    "### Automatic Differentiation "
   ]
  },
  {
   "cell_type": "markdown",
   "metadata": {},
   "source": [
    "#### Forward Accumulation "
   ]
  },
  {
   "cell_type": "markdown",
   "metadata": {},
   "source": [
    "Dual numbers can be expressed mathematically by including the abstract quantity $\\epsilon$, where $\\epsilon^{2}$ is defined to be 0. Like a complex number, a dual number is writted $a + b\\epsilon$ where a and b are both real values. We have:\n",
    "\n",
    "$(a + \\epsilon b) + (c + \\epsilon d) = (a + c) + (b + d)\\epsilon$ <br><br>\n",
    "$(a + \\epsilon b) * (c + \\epsilon d) = ac + (ad + bc)\\epsilon$\n",
    "\n",
    "Dual number is a pair that we get after applying some operation. For example:\n",
    "x -> log -> y <br>\n",
    "Here we have: <br><br>\n",
    "y = log(x) <br><br>\n",
    "$\\dot{y} = \\frac{1}{x}\\dot{x}$\n",
    "\n",
    "where derivatives are with respect to some target variable (if it is x, then $\\dot{x}$ = 1 and $\\dot{y} = \\frac{1}{x}$)"
   ]
  },
  {
   "cell_type": "code",
   "execution_count": 8,
   "metadata": {},
   "outputs": [],
   "source": [
    "Dual = namedtuple('Dual', 'value, derivative')"
   ]
  },
  {
   "cell_type": "code",
   "execution_count": 9,
   "metadata": {},
   "outputs": [],
   "source": [
    "def add(x1: Dual, x2: Dual) -> Dual:\n",
    "    return Dual(x1.value + x2.value,\n",
    "               x1.derivative + x2.derivative)"
   ]
  },
  {
   "cell_type": "code",
   "execution_count": 10,
   "metadata": {},
   "outputs": [],
   "source": [
    "def mult(x1: Dual, x2: Dual) -> Dual:\n",
    "    return Dual(x1.value * x2.value,\n",
    "               x1.value * x2.derivative + x1.derivative * x2.value)"
   ]
  },
  {
   "cell_type": "code",
   "execution_count": 11,
   "metadata": {},
   "outputs": [],
   "source": [
    "def ln(x: Dual) -> Dual:\n",
    "    return Dual(np.log(x.value), x.derivative / x.value)"
   ]
  },
  {
   "cell_type": "code",
   "execution_count": 12,
   "metadata": {},
   "outputs": [],
   "source": [
    "def max_(x: Dual, n: int) -> Dual:\n",
    "    return Dual(max(x.value, n), x.derivative if x.value > n else 0)"
   ]
  },
  {
   "cell_type": "code",
   "execution_count": 13,
   "metadata": {},
   "outputs": [],
   "source": [
    "a = Dual(3, 1)\n",
    "b = Dual(2, 0)"
   ]
  },
  {
   "cell_type": "code",
   "execution_count": 14,
   "metadata": {},
   "outputs": [
    {
     "data": {
      "text/plain": [
       "Dual(value=2.1972245773362196, derivative=0.3333333333333333)"
      ]
     },
     "execution_count": 14,
     "metadata": {},
     "output_type": "execute_result"
    }
   ],
   "source": [
    "ln(add(mult(a, b), max_(a, 2)))"
   ]
  },
  {
   "cell_type": "markdown",
   "metadata": {},
   "source": [
    "#### ex 2.1 \n",
    "Adopt the forward difference method to approximate the Hessian of $f(x)$ using its gradient, $\\nabla f(x)$."
   ]
  },
  {
   "cell_type": "markdown",
   "metadata": {},
   "source": [
    "$\\frac{\\partial f}{\\partial x_{i} \\partial x_{j}}$ = $\\frac{\\Delta f(x + he_{j})_{i} - \\Delta f(x)_{i}}{h}$"
   ]
  },
  {
   "cell_type": "markdown",
   "metadata": {},
   "source": [
    "#### ex 2.2 \n",
    "What is a drawback of the central difference method over other finite difference methods if we already know $f(x)$. "
   ]
  },
  {
   "cell_type": "markdown",
   "metadata": {},
   "source": [
    "#### sol\n",
    "We cannot reuse this value and have to compute f twice instead."
   ]
  },
  {
   "cell_type": "markdown",
   "metadata": {},
   "source": [
    "#### ex 2.3\n",
    "Compute the gradient of $f(x) = ln(x) + e^{x} + \\frac{1}{x}$ for a point x close to zero. What dominates in the expression? "
   ]
  },
  {
   "cell_type": "markdown",
   "metadata": {},
   "source": [
    "#### sol \n",
    "$\\frac{df}{dx} = \\frac{1}{x} + e^{x} - \\frac{1}{x^{2}}$ <br><br>\n",
    "This expression is dominated by $\\frac{1}{x^{2}}$."
   ]
  },
  {
   "cell_type": "markdown",
   "metadata": {},
   "source": [
    "#### ex 2.4\n",
    "Suppose f(x) is a real-valued function that is also defined for complex inputs. If $f(3 + ih) = 2 + 4ih$, what is $f^{'}(3)$?"
   ]
  },
  {
   "cell_type": "markdown",
   "metadata": {},
   "source": [
    "#### sol \n",
    "$f^{'}(x) = \\frac{im[f(x + ih)]}{h}$, so <br>\n",
    "$f^{'}(3)$ = 4"
   ]
  },
  {
   "cell_type": "markdown",
   "metadata": {},
   "source": [
    "#### ex 2.5\n",
    "Draw the computational graph for $f(x, y) = sin(x + y^{2})$. Use the computational graph with forward graph with forward computation to compute $\\frac{\\partial f}{\\partial y}$ at (x, y) = (1, 1). Label the intermediate values and partial derivatives as they are propagated through the graph. "
   ]
  },
  {
   "cell_type": "markdown",
   "metadata": {},
   "source": [
    "#### sol "
   ]
  },
  {
   "cell_type": "code",
   "execution_count": 15,
   "metadata": {},
   "outputs": [],
   "source": [
    "def sin(x: Dual) -> Dual:\n",
    "    return Dual(np.cos(x.value), x.derivative * np.cos(x.value))"
   ]
  },
  {
   "cell_type": "code",
   "execution_count": 16,
   "metadata": {},
   "outputs": [],
   "source": [
    "def square(x: Dual) -> Dual:\n",
    "    return Dual(x.value ** 2, 2 * x.value * x.derivative)"
   ]
  },
  {
   "cell_type": "markdown",
   "metadata": {},
   "source": [
    "Manually <br>\n",
    "$\\frac{\\partial f}{\\partial y} = 2ycos(x + y^{2})$ <br>\n",
    "$\\frac{\\partial f}{\\partial y}(1, 1) = 2cos(1 + 1) = 2cos(2)$"
   ]
  },
  {
   "cell_type": "code",
   "execution_count": 17,
   "metadata": {},
   "outputs": [
    {
     "data": {
      "text/plain": [
       "-0.8322936730942848"
      ]
     },
     "execution_count": 17,
     "metadata": {},
     "output_type": "execute_result"
    }
   ],
   "source": [
    "2 * np.cos(2)"
   ]
  },
  {
   "cell_type": "code",
   "execution_count": 18,
   "metadata": {},
   "outputs": [
    {
     "data": {
      "text/plain": [
       "Dual(value=-0.4161468365471424, derivative=-0.8322936730942848)"
      ]
     },
     "execution_count": 18,
     "metadata": {},
     "output_type": "execute_result"
    }
   ],
   "source": [
    "x = Dual(1, 0)\n",
    "y = Dual(1, 1)\n",
    "sin(add(x, square(y)))"
   ]
  }
 ],
 "metadata": {
  "kernelspec": {
   "display_name": "Python 3",
   "language": "python",
   "name": "python3"
  },
  "language_info": {
   "codemirror_mode": {
    "name": "ipython",
    "version": 3
   },
   "file_extension": ".py",
   "mimetype": "text/x-python",
   "name": "python",
   "nbconvert_exporter": "python",
   "pygments_lexer": "ipython3",
   "version": "3.6.5"
  }
 },
 "nbformat": 4,
 "nbformat_minor": 2
}
